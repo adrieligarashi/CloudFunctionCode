{
 "cells": [
  {
   "cell_type": "code",
   "execution_count": 14,
   "id": "92462a9b-fb46-47f1-94a4-e62cb0bdbc46",
   "metadata": {},
   "outputs": [],
   "source": [
    "import requests\n",
    "from bs4 import BeautifulSoup\n",
    "\n",
    "import numpy as np\n",
    "import pandas as pd\n",
    "\n",
    "%matplotlib inline\n",
    "import matplotlib"
   ]
  },
  {
   "cell_type": "code",
   "execution_count": 15,
   "id": "42f7cdbf-16de-416a-a79e-c806624612e2",
   "metadata": {},
   "outputs": [],
   "source": [
    "url = \"https://news.ycombinator.com/\"\n",
    "\n",
    "resposta = requests.get(url)\n",
    "sopa = BeautifulSoup(resposta.content, \"html.parser\")"
   ]
  },
  {
   "cell_type": "code",
   "execution_count": 36,
   "id": "fa814abb-bdc2-480a-b94a-71a5858b6acc",
   "metadata": {
    "tags": []
   },
   "outputs": [
    {
     "data": {
      "text/plain": [
       "['Applebee’s exec urges using high gas prices to push lower wages, sparks walkout',\n",
       " 'The end of the nice GTK button']"
      ]
     },
     "execution_count": 36,
     "metadata": {},
     "output_type": "execute_result"
    }
   ],
   "source": [
    "movies = []\n",
    "books_html  = sopa.find_all('a', class_ = 'titlelink')\n",
    "\n",
    "for movie in books_html:\n",
    "    title = movie.string\n",
    "    movies.append(title)\n",
    "    \n",
    "movies[0:2]"
   ]
  },
  {
   "cell_type": "code",
   "execution_count": 35,
   "id": "d9239a35-b410-4048-9097-6acd733881ae",
   "metadata": {},
   "outputs": [
    {
     "data": {
      "text/plain": [
       "['Applebee’s exec urges using high gas prices to push lower wages, sparks walkout',\n",
       " 'The end of the nice GTK button',\n",
       " 'MDN Plus',\n",
       " 'Global music market grew by 18.5% in 2021, driven by paid subscription streaming',\n",
       " 'A Way Out for A.out',\n",
       " \"Reddit's website uses DRM for fingerprinting (2020)\",\n",
       " 'Launch HN: Carbon Crusher (YC W22) – Carbon Negative Roads',\n",
       " 'The illusion of evidence based medicine',\n",
       " 'The Cube Rule',\n",
       " 'Courier (YC S19) Is Hiring to Make Software-to-Human Communication Delightful',\n",
       " 'Open Golf: A cross-platform minigolf game written in C',\n",
       " 'Using FujiFilm SDK on a Camera Voids Its Warranty',\n",
       " 'Common Lisp with stat and plot (stat-Lisp)',\n",
       " \"I became the world's most prolific DJ, using code\",\n",
       " 'If you’re not using SSH certificates you’re doing SSH wrong (2019)',\n",
       " 'How to add thousands of lights to your renderer and not die in the process',\n",
       " 'YouTuber builds his own x-ray machine after $69k hospital bill (2021)',\n",
       " 'Almost 37 years after its launch, someone found an Easter egg in Windows 1.0',\n",
       " 'Crows know what they know and can ponder the content of their own minds',\n",
       " 'Buttons as Finite Automata',\n",
       " 'The Feynman Lectures on Physics',\n",
       " 'Retirement the Margaritaville Way',\n",
       " 'Show HN: Postgres.js – Fastest Full-Featured PostgreSQL Client for Node and Deno',\n",
       " 'Show HN: Bionic Reading – Formats text to make it faster to read',\n",
       " 'Video: Why Open Data Matters for Cycling: Visualizing a Cycling City',\n",
       " 'Upcoming changes to user limits on Free tier of Gitlab SaaS',\n",
       " 'Awesome Pascal – A curated list of Delphi, FreePascal, and Pascal shiny things',\n",
       " 'The Origin and Evolution of Baby Carrots',\n",
       " 'Dyalog APL 18.2',\n",
       " 'Arguing Without Warning']"
      ]
     },
     "execution_count": 35,
     "metadata": {},
     "output_type": "execute_result"
    }
   ],
   "source": [
    "movies"
   ]
  },
  {
   "cell_type": "code",
   "execution_count": null,
   "id": "a7c11c87-9241-4a88-aa1a-1643c9106976",
   "metadata": {},
   "outputs": [],
   "source": []
  }
 ],
 "metadata": {
  "kernelspec": {
   "display_name": "Python 3 (ipykernel)",
   "language": "python",
   "name": "python3"
  },
  "language_info": {
   "codemirror_mode": {
    "name": "ipython",
    "version": 3
   },
   "file_extension": ".py",
   "mimetype": "text/x-python",
   "name": "python",
   "nbconvert_exporter": "python",
   "pygments_lexer": "ipython3",
   "version": "3.8.12"
  }
 },
 "nbformat": 4,
 "nbformat_minor": 5
}
